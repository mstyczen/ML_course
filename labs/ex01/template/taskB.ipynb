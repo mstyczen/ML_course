{
 "cells": [
  {
   "cell_type": "code",
   "execution_count": 2,
   "source": [
    "%matplotlib inline\r\n",
    "import numpy as np\r\n",
    "import matplotlib.pyplot as plt\r\n",
    "%load_ext autoreload\r\n",
    "%autoreload 2"
   ],
   "outputs": [],
   "metadata": {}
  },
  {
   "cell_type": "markdown",
   "source": [
    "Data Generation\r\n",
    "==="
   ],
   "metadata": {}
  },
  {
   "cell_type": "code",
   "execution_count": 3,
   "source": [
    "np.random.seed(10)\r\n",
    "p, q = (np.random.rand(i, 2) for i in (4, 5))\r\n",
    "p_big, q_big = (np.random.rand(i, 80) for i in (100, 120))\r\n",
    "\r\n",
    "print(p, \"\\n\\n\", q)"
   ],
   "outputs": [
    {
     "output_type": "stream",
     "name": "stdout",
     "text": [
      "[[0.77132064 0.02075195]\n",
      " [0.63364823 0.74880388]\n",
      " [0.49850701 0.22479665]\n",
      " [0.19806286 0.76053071]] \n",
      "\n",
      " [[0.16911084 0.08833981]\n",
      " [0.68535982 0.95339335]\n",
      " [0.00394827 0.51219226]\n",
      " [0.81262096 0.61252607]\n",
      " [0.72175532 0.29187607]]\n"
     ]
    }
   ],
   "metadata": {}
  },
  {
   "cell_type": "markdown",
   "source": [
    "Solution\r\n",
    "==="
   ],
   "metadata": {}
  },
  {
   "cell_type": "code",
   "execution_count": 26,
   "source": [
    "def naive(P, Q):\r\n",
    "    p, q = P.shape[0], Q.shape[0]\r\n",
    "    D = np.zeros((p,q))\r\n",
    "    for i in range(p):\r\n",
    "        for j in range(q):\r\n",
    "            D[i,j] = np.sum((P[i] - Q[j]) ** 2, axis=0)\r\n",
    "    return np.sqrt(D)"
   ],
   "outputs": [],
   "metadata": {
    "collapsed": true
   }
  },
  {
   "cell_type": "markdown",
   "source": [
    "### Use matching indices\r\n",
    "\r\n",
    "Instead of iterating through indices, one can use them directly to parallelize the operations with Numpy."
   ],
   "metadata": {}
  },
  {
   "cell_type": "code",
   "execution_count": 27,
   "source": [
    "rows, cols = np.indices((p.shape[0], q.shape[0]))\r\n",
    "print(rows, end='\\n\\n')\r\n",
    "print(cols)"
   ],
   "outputs": [
    {
     "output_type": "stream",
     "name": "stdout",
     "text": [
      "[[0 0 0 0 0]\n",
      " [1 1 1 1 1]\n",
      " [2 2 2 2 2]\n",
      " [3 3 3 3 3]]\n",
      "\n",
      "[[0 1 2 3 4]\n",
      " [0 1 2 3 4]\n",
      " [0 1 2 3 4]\n",
      " [0 1 2 3 4]]\n"
     ]
    }
   ],
   "metadata": {}
  },
  {
   "cell_type": "code",
   "execution_count": 33,
   "source": [
    "print(p[rows.ravel()], end='\\n\\n')\r\n",
    "print(q[cols.ravel()])"
   ],
   "outputs": [
    {
     "output_type": "stream",
     "name": "stdout",
     "text": [
      "[[0.60599073 0.93659449 0.91124856 0.59321356 0.27561751]\n",
      " [0.80746999 0.21102354 0.67268649 0.22495084 0.46534491]\n",
      " [0.35654215 0.75217493 0.57200052 0.49900068 0.23310825]\n",
      " [0.67281411 0.52407472 0.31520226 0.63212897 0.70277376]]\n",
      "[[0.60599073 0.93659449 0.91124856 0.59321356 0.27561751]\n",
      " [0.80746999 0.21102354 0.67268649 0.22495084 0.46534491]\n",
      " [0.35654215 0.75217493 0.57200052 0.49900068 0.23310825]\n",
      " [0.67281411 0.52407472 0.31520226 0.63212897 0.70277376]]\n"
     ]
    }
   ],
   "metadata": {}
  },
  {
   "cell_type": "code",
   "execution_count": null,
   "source": [],
   "outputs": [],
   "metadata": {}
  },
  {
   "cell_type": "code",
   "execution_count": 32,
   "source": [
    "def with_indices(p, q):\r\n",
    "    ''' fill your code in here...\r\n",
    "    '''\r\n",
    "    rows, cols = np.indices((p.shape[0], q.shape[0]))\r\n",
    "    ps = p[rows.ravel()]\r\n",
    "    qs = q[cols.ravel()]\r\n",
    "    D = np.sum((ps-qs)**2, axis=1)\r\n",
    "    D = D[np.newaxis]\r\n",
    "    D = D.reshape([p.shape[0],q.shape[0]])\r\n",
    "    D = np.sqrt(D)\r\n",
    "    return D\r\n",
    "    "
   ],
   "outputs": [],
   "metadata": {
    "collapsed": true
   }
  },
  {
   "cell_type": "markdown",
   "source": [
    "### Use a library\r\n",
    "\r\n",
    "`scipy` is the equivalent of matlab toolboxes and have a lot to offer. Actually the pairwise computation is part of the library through the `spatial` module."
   ],
   "metadata": {}
  },
  {
   "cell_type": "code",
   "execution_count": 34,
   "source": [
    "from scipy.spatial.distance import cdist\r\n",
    "\r\n",
    "def scipy_version(p, q):\r\n",
    "    return cdist(p, q)"
   ],
   "outputs": [],
   "metadata": {}
  },
  {
   "cell_type": "markdown",
   "source": [
    "### Numpy Magic"
   ],
   "metadata": {}
  },
  {
   "cell_type": "code",
   "execution_count": 35,
   "source": [
    "def tensor_broadcasting(p, q):\r\n",
    "    return np.sqrt(np.sum((p[:,np.newaxis,:]-q[np.newaxis,:,:])**2, axis=2))"
   ],
   "outputs": [],
   "metadata": {}
  },
  {
   "cell_type": "markdown",
   "source": [
    "# Compare methods"
   ],
   "metadata": {}
  },
  {
   "cell_type": "code",
   "execution_count": 36,
   "source": [
    "methods = [naive, with_indices, scipy_version, tensor_broadcasting]\r\n",
    "timers = []\r\n",
    "for f in methods:\r\n",
    "    r = %timeit -o f(p_big, q_big)\r\n",
    "    timers.append(r)"
   ],
   "outputs": [
    {
     "output_type": "stream",
     "name": "stdout",
     "text": [
      "106 ms ± 11.7 ms per loop (mean ± std. dev. of 7 runs, 10 loops each)\n",
      "14.5 ms ± 627 µs per loop (mean ± std. dev. of 7 runs, 100 loops each)\n",
      "755 µs ± 122 µs per loop (mean ± std. dev. of 7 runs, 1000 loops each)\n",
      "7.61 ms ± 527 µs per loop (mean ± std. dev. of 7 runs, 100 loops each)\n"
     ]
    }
   ],
   "metadata": {}
  },
  {
   "cell_type": "code",
   "execution_count": null,
   "source": [
    "plt.figure(figsize=(10,6))\r\n",
    "plt.bar(np.arange(len(methods)), [r.best*1000 for r in timers], log=False)  # Set log to True for logarithmic scale\r\n",
    "plt.xticks(np.arange(len(methods))+0.2, [f.__name__ for f in methods], rotation=30)\r\n",
    "plt.xlabel('Method')\r\n",
    "plt.ylabel('Time (ms)')\r\n",
    "plt.show()"
   ],
   "outputs": [],
   "metadata": {}
  },
  {
   "cell_type": "code",
   "execution_count": null,
   "source": [],
   "outputs": [],
   "metadata": {
    "collapsed": true
   }
  }
 ],
 "metadata": {
  "kernelspec": {
   "name": "python3",
   "display_name": "Python 3.9.7 64-bit ('ml-epfl': conda)"
  },
  "language_info": {
   "codemirror_mode": {
    "name": "ipython",
    "version": 3
   },
   "file_extension": ".py",
   "mimetype": "text/x-python",
   "name": "python",
   "nbconvert_exporter": "python",
   "pygments_lexer": "ipython3",
   "version": "3.9.7"
  },
  "interpreter": {
   "hash": "f1dd2468fd3358de85da1e9b5fe6f02ef600206b98faa3202f3d0343a75835dc"
  }
 },
 "nbformat": 4,
 "nbformat_minor": 1
}