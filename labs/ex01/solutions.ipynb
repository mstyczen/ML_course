{
 "cells": [
  {
   "cell_type": "code",
   "execution_count": 2,
   "source": [
    "# imports\r\n",
    "import numpy as np\r\n",
    "import matplotlib.pyplot as plt"
   ],
   "outputs": [],
   "metadata": {}
  },
  {
   "cell_type": "markdown",
   "source": [
    "### Task A: Matrix standardization"
   ],
   "metadata": {}
  },
  {
   "cell_type": "code",
   "execution_count": 10,
   "source": [
    "def standardize(x):\r\n",
    "    \"\"\"\r\n",
    "    Standardize a matrix.\r\n",
    "\r\n",
    "    @param x: A matrix to be standardized.\r\n",
    "    @return: Matrix x after standardization.\r\n",
    "    \"\"\"\r\n",
    "    mean = np.mean(x, axis=0)\r\n",
    "    std = np.std(x, axis=0)\r\n",
    "    \r\n",
    "    return (x - mean) / std\r\n",
    "\r\n",
    "M = np.random.randint(100, size=(3,5,5))\r\n",
    "M = standardize(M)"
   ],
   "outputs": [],
   "metadata": {}
  },
  {
   "cell_type": "markdown",
   "source": [
    "### Task B: Pairwise distances in the plane"
   ],
   "metadata": {}
  },
  {
   "cell_type": "code",
   "execution_count": 20,
   "source": [
    "def pairwise_distances(P, Q):\r\n",
    "    \"\"\"\r\n",
    "    Returns pairwise distances between points from two lists.\r\n",
    "    @param P: A matrix of N points with dimensions Nx2. Each row corresponds to a 2-d point.\r\n",
    "    @param Q: A matrix of M points with dimensions Mx2. Each row corresponds to a 2-d point.\r\n",
    "    @return D: A matrix of pairwise distances between points from P and Q. The dimension of D is NxM, and D[i,j] corresponds to the distance between points P[i] and Q[j].\r\n",
    "    \"\"\"\r\n",
    "    print(P)\r\n",
    "    squares = (P[None, :] - Q[:, None]) ** 2\r\n",
    "    D = np.sqrt(np.sum(squares, -1))\r\n",
    "    return D\r\n",
    "\r\n",
    "P = np.random.randint(5, size=(4, 2))\r\n",
    "# P = np.zeros((4,2))\r\n",
    "Q = np.random.randint(5, size=(5, 2))\r\n",
    "# Q = np.ones((5,2))\r\n",
    "pairwise_distances(P,Q)"
   ],
   "outputs": [
    {
     "output_type": "stream",
     "name": "stdout",
     "text": [
      "[[0 4]\n",
      " [4 2]\n",
      " [4 1]\n",
      " [0 0]]\n"
     ]
    },
    {
     "output_type": "execute_result",
     "data": {
      "text/plain": [
       "array([[0.        , 4.47213595, 5.        , 4.        ],\n",
       "       [1.41421356, 3.16227766, 3.60555128, 3.16227766],\n",
       "       [1.        , 4.12310563, 4.47213595, 3.        ],\n",
       "       [0.        , 4.47213595, 5.        , 4.        ],\n",
       "       [5.        , 2.23606798, 1.41421356, 3.        ]])"
      ]
     },
     "metadata": {},
     "execution_count": 20
    }
   ],
   "metadata": {}
  },
  {
   "cell_type": "markdown",
   "source": [
    "### Task C: Likelihood of a data sample"
   ],
   "metadata": {}
  },
  {
   "cell_type": "code",
   "execution_count": null,
   "source": [
    "def likelihood(x, theta_1, theta_2):\r\n",
    "    \"\"\"\r\n",
    "    \"\"\"\r\n",
    "\r\n",
    "def likelihood_single_model(x, theta):\r\n",
    "    mu, sigma "
   ],
   "outputs": [],
   "metadata": {}
  }
 ],
 "metadata": {
  "orig_nbformat": 4,
  "language_info": {
   "name": "python",
   "version": "3.9.7",
   "mimetype": "text/x-python",
   "codemirror_mode": {
    "name": "ipython",
    "version": 3
   },
   "pygments_lexer": "ipython3",
   "nbconvert_exporter": "python",
   "file_extension": ".py"
  },
  "kernelspec": {
   "name": "python3",
   "display_name": "Python 3.9.7 64-bit ('ml-epfl': conda)"
  },
  "interpreter": {
   "hash": "f1dd2468fd3358de85da1e9b5fe6f02ef600206b98faa3202f3d0343a75835dc"
  }
 },
 "nbformat": 4,
 "nbformat_minor": 2
}